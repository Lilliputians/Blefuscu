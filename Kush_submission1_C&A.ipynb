{
  "nbformat": 4,
  "nbformat_minor": 0,
  "metadata": {
    "colab": {
      "name": "Untitled50.ipynb",
      "private_outputs": true,
      "provenance": [],
      "authorship_tag": "ABX9TyN8miwIJmD+BGQORHB5x5KN",
      "include_colab_link": true
    },
    "kernelspec": {
      "name": "python3",
      "display_name": "Python 3"
    }
  },
  "cells": [
    {
      "cell_type": "markdown",
      "metadata": {
        "id": "view-in-github",
        "colab_type": "text"
      },
      "source": [
        "<a href=\"https://colab.research.google.com/github/shahkv95/Lilliputian-Codes/blob/master/Kush_submission1_C%26A.ipynb\" target=\"_parent\"><img src=\"https://colab.research.google.com/assets/colab-badge.svg\" alt=\"Open In Colab\"/></a>"
      ]
    },
    {
      "cell_type": "code",
      "metadata": {
        "id": "OfhZmPdQOmzw"
      },
      "source": [
        "from google.colab import files\n",
        "\n",
        "uploaded = files.upload()\n",
        "\n",
        "for fn in uploaded.keys():\n",
        "  print('User uploaded file \"{name}\" with length {length} bytes'.format(\n",
        "      name=fn, length=len(uploaded[fn])))"
      ],
      "execution_count": null,
      "outputs": []
    },
    {
      "cell_type": "code",
      "metadata": {
        "id": "wkQJOumbOn8V"
      },
      "source": [
        "train_file = \"https://raw.githubusercontent.com/TrialeError/dataset/main/train_age_dataset.csv\"\r\n",
        "test_file = \"https://raw.githubusercontent.com/TrialeError/dataset/main/test_age_dataset.csv\"\r\n",
        "submission_file = \"https://raw.githubusercontent.com/TrialeError/dataset/main/sample_submission.csv\""
      ],
      "execution_count": null,
      "outputs": []
    },
    {
      "cell_type": "code",
      "metadata": {
        "id": "QQJSphhgUG7O"
      },
      "source": [
        "import pandas as pd\r\n",
        "import numpy as np\r\n"
      ],
      "execution_count": null,
      "outputs": []
    },
    {
      "cell_type": "code",
      "metadata": {
        "id": "uj61BsZDZbkh"
      },
      "source": [
        "test_df = pd.read_csv(test_file)\r\n",
        "test_df.shape"
      ],
      "execution_count": null,
      "outputs": []
    },
    {
      "cell_type": "code",
      "metadata": {
        "id": "Y_pNOr9DUToz"
      },
      "source": [
        "train_df = pd.read_csv(train_file)\r\n",
        "train_df.head()"
      ],
      "execution_count": null,
      "outputs": []
    },
    {
      "cell_type": "code",
      "metadata": {
        "id": "dA61l7VYUai0"
      },
      "source": [
        "train_df.isnull()"
      ],
      "execution_count": null,
      "outputs": []
    },
    {
      "cell_type": "code",
      "metadata": {
        "id": "Pv7pBfgzUd1w"
      },
      "source": [
        "train_df.isnull().sum()"
      ],
      "execution_count": null,
      "outputs": []
    },
    {
      "cell_type": "code",
      "metadata": {
        "id": "6B9HgPiJWFqp"
      },
      "source": [
        "train_df.head()"
      ],
      "execution_count": null,
      "outputs": []
    },
    {
      "cell_type": "code",
      "metadata": {
        "id": "h_NLOo-vUgAM"
      },
      "source": [
        ""
      ],
      "execution_count": null,
      "outputs": []
    },
    {
      "cell_type": "code",
      "metadata": {
        "id": "UQw-DZmqVddc"
      },
      "source": [
        "train_df.head()"
      ],
      "execution_count": null,
      "outputs": []
    },
    {
      "cell_type": "code",
      "metadata": {
        "id": "2Bu8P2ChVi28"
      },
      "source": [
        "train_df.tail()"
      ],
      "execution_count": null,
      "outputs": []
    },
    {
      "cell_type": "code",
      "metadata": {
        "id": "b0v3B3wJWPtn"
      },
      "source": [
        "train_df.info()"
      ],
      "execution_count": null,
      "outputs": []
    },
    {
      "cell_type": "code",
      "metadata": {
        "id": "NoNctk9zWVhI"
      },
      "source": [
        "train_df.shape"
      ],
      "execution_count": null,
      "outputs": []
    },
    {
      "cell_type": "code",
      "metadata": {
        "id": "TL6R0_wQWkRs"
      },
      "source": [
        "train_df['tier'].unique()"
      ],
      "execution_count": null,
      "outputs": []
    },
    {
      "cell_type": "code",
      "metadata": {
        "id": "WxDMvWcCWs9v"
      },
      "source": [
        "train_df['gender'].unique()"
      ],
      "execution_count": null,
      "outputs": []
    },
    {
      "cell_type": "code",
      "metadata": {
        "id": "5qDUKeH3WvXf"
      },
      "source": [
        "train_df['max_repetitive_punc'].unique()"
      ],
      "execution_count": null,
      "outputs": []
    },
    {
      "cell_type": "code",
      "metadata": {
        "id": "xLxqtzELW-8i"
      },
      "source": [
        "len(train_df['max_repetitive_punc'].unique())"
      ],
      "execution_count": null,
      "outputs": []
    },
    {
      "cell_type": "code",
      "metadata": {
        "id": "JiQnPkVAW2c7"
      },
      "source": [
        "train_df['avgComments'].unique()"
      ],
      "execution_count": null,
      "outputs": []
    },
    {
      "cell_type": "code",
      "metadata": {
        "id": "EbMyiFCvW8I0"
      },
      "source": [
        "len(train_df['avgComments'].unique())"
      ],
      "execution_count": null,
      "outputs": []
    },
    {
      "cell_type": "code",
      "metadata": {
        "id": "yVL3mHOmXHxa"
      },
      "source": [
        "train_df.drop(['max_repetitive_punc', 'avgComments'], axis = 1, inplace= True)\r\n"
      ],
      "execution_count": null,
      "outputs": []
    },
    {
      "cell_type": "code",
      "metadata": {
        "id": "3bSduNixXabi"
      },
      "source": [
        "train_df.head()"
      ],
      "execution_count": null,
      "outputs": []
    },
    {
      "cell_type": "code",
      "metadata": {
        "id": "0MoZvL1fXpfC"
      },
      "source": [
        "train_df.columns"
      ],
      "execution_count": null,
      "outputs": []
    },
    {
      "cell_type": "code",
      "metadata": {
        "id": "vo8RxvB4Xs1A"
      },
      "source": [
        "train_df.shape"
      ],
      "execution_count": null,
      "outputs": []
    },
    {
      "cell_type": "code",
      "metadata": {
        "id": "y061W5ErXwuK"
      },
      "source": [
        "train_df.info()"
      ],
      "execution_count": null,
      "outputs": []
    },
    {
      "cell_type": "code",
      "metadata": {
        "id": "psgJulmoXaYZ"
      },
      "source": [
        "categorial = ['tier','gender']\r\n",
        "new_train_df = pd.get_dummies(train_df, columns=categorial, drop_first=False)\r\n",
        "new_train_df.head()"
      ],
      "execution_count": null,
      "outputs": []
    },
    {
      "cell_type": "code",
      "metadata": {
        "id": "3lNbjInBalGb"
      },
      "source": [
        "new_train_df.shape"
      ],
      "execution_count": null,
      "outputs": []
    },
    {
      "cell_type": "code",
      "metadata": {
        "id": "5-uVStx3X-c1"
      },
      "source": [
        "import matplotlib.pyplot as plt\r\n",
        "import numpy as np\r\n",
        "import seaborn as sns\r\n",
        "plt.subplots(figsize=(20,16))\r\n",
        "sns.heatmap(new_train_df.corr(), annot = True, fmt='.1g', linewidths=3, linecolor='black')\r\n",
        "plt.show()"
      ],
      "execution_count": null,
      "outputs": []
    },
    {
      "cell_type": "code",
      "metadata": {
        "id": "egV_C1vAYM1H"
      },
      "source": [
        "from sklearn.model_selection import train_test_split\r\n",
        "X = new_train_df.drop(['age_group'],axis=1).values\r\n",
        "y = new_train_df['age_group'].values\r\n"
      ],
      "execution_count": null,
      "outputs": []
    },
    {
      "cell_type": "code",
      "metadata": {
        "id": "otPWQRdsYvuQ"
      },
      "source": [
        "\r\n",
        "X_train, X_test, y_train, y_test = train_test_split(X, y, test_size=0.05)"
      ],
      "execution_count": null,
      "outputs": []
    },
    {
      "cell_type": "code",
      "metadata": {
        "id": "V7Aq9zpdY2zn"
      },
      "source": [
        "from sklearn.preprocessing import StandardScaler\r\n",
        "\r\n",
        "sc = StandardScaler()\r\n",
        "X_train = sc.fit_transform(X_train)\r\n",
        "X_test = sc.transform(X_test)"
      ],
      "execution_count": null,
      "outputs": []
    },
    {
      "cell_type": "code",
      "metadata": {
        "id": "bM3gQSzgY7SX"
      },
      "source": [
        "df_train = pd.DataFrame(X_train)\r\n",
        "df_train.head()"
      ],
      "execution_count": null,
      "outputs": []
    },
    {
      "cell_type": "code",
      "metadata": {
        "id": "P-6r87HeY-N0"
      },
      "source": [
        "\r\n",
        "from sklearn.linear_model import LogisticRegression\r\n",
        "from sklearn.metrics import confusion_matrix\r\n",
        "from sklearn.metrics import classification_report\r\n",
        "from sklearn.metrics import accuracy_score\r\n",
        "\r\n",
        "lr_model = LogisticRegression(solver='saga')\r\n",
        "lr_model.fit(X_train, y_train)\r\n",
        "\r\n",
        "predictions = lr_model.predict(X_test)\r\n",
        "\r\n",
        "print(\"Accuracy {0:.2f}%\".format(100*accuracy_score(predictions, y_test)))\r\n",
        "print(confusion_matrix(y_test, predictions))\r\n",
        "print(classification_report(y_test, predictions))"
      ],
      "execution_count": null,
      "outputs": []
    },
    {
      "cell_type": "code",
      "metadata": {
        "id": "CCcPH1S-ZBR8"
      },
      "source": [
        "test_df.head()"
      ],
      "execution_count": null,
      "outputs": []
    },
    {
      "cell_type": "code",
      "metadata": {
        "id": "G8Z7SR2fZ9RR"
      },
      "source": [
        "test_df.columns"
      ],
      "execution_count": null,
      "outputs": []
    },
    {
      "cell_type": "code",
      "metadata": {
        "id": "btqSdgjaZV8p"
      },
      "source": [
        "test_altered = test_df\r\n",
        "test_altered.drop(['Unnamed: 0', 'userId', 'max_repetitive_punc', 'avgComments'], axis = 1, inplace = True)\r\n",
        "test_altered.head()"
      ],
      "execution_count": null,
      "outputs": []
    },
    {
      "cell_type": "code",
      "metadata": {
        "id": "aL4G__LGaH2e"
      },
      "source": [
        "categorial2 = ['tier','gender']\r\n",
        "new_test_df = pd.get_dummies(test_altered, columns=categorial2, drop_first=False)\r\n",
        "new_test_df.head()"
      ],
      "execution_count": null,
      "outputs": []
    },
    {
      "cell_type": "code",
      "metadata": {
        "id": "ULKge1tXaZnH"
      },
      "source": [
        "new_test_df.shape"
      ],
      "execution_count": null,
      "outputs": []
    },
    {
      "cell_type": "code",
      "metadata": {
        "id": "35JP_0CSae_f"
      },
      "source": [
        "new_test_altered2 = sc.fit_transform(new_test_df)\r\n",
        "new_test_altered2"
      ],
      "execution_count": null,
      "outputs": []
    },
    {
      "cell_type": "code",
      "metadata": {
        "id": "4EKNcHL3bAVh"
      },
      "source": [
        "new_test_altered2.shape"
      ],
      "execution_count": null,
      "outputs": []
    },
    {
      "cell_type": "code",
      "metadata": {
        "id": "jQDizU_hbCyL"
      },
      "source": [
        "predictions = lr_model.predict(new_test_altered2)\r\n",
        "predictions"
      ],
      "execution_count": null,
      "outputs": []
    },
    {
      "cell_type": "code",
      "metadata": {
        "id": "HM1f8uWvbKcf"
      },
      "source": [
        "output = pd.DataFrame({ 'prediction': predictions })\r\n",
        "output.to_csv('logistic_regression2.csv', index=False)\r\n",
        "print(\"Program ran successfully!\")"
      ],
      "execution_count": null,
      "outputs": []
    },
    {
      "cell_type": "code",
      "metadata": {
        "id": "lrQ_zWJSbT8T"
      },
      "source": [
        "# Carried out feature engineering with better visible data mining patterns and trained a supervised machine learning model to arrive at a predictive model - LR 1 "
      ],
      "execution_count": null,
      "outputs": []
    },
    {
      "cell_type": "code",
      "metadata": {
        "id": "gE2W2KPbb9np"
      },
      "source": [
        "from sklearn.ensemble import RandomForestClassifier\r\n",
        "from sklearn.metrics import confusion_matrix\r\n",
        "from sklearn.metrics import classification_report\r\n",
        "from sklearn.metrics import accuracy_score\r\n",
        "\r\n",
        "rf_model = RandomForestClassifier()\r\n",
        "rf_model.fit(X_train, y_train)\r\n",
        "\r\n",
        "predictions = model.predict(X_test)\r\n",
        "score = model.score(X_test, y_test)\r\n",
        "\r\n",
        "print(\"Accuracy {0:.2f}%\".format(100*accuracy_score(predictions, y_test)))\r\n",
        "print(confusion_matrix(y_test, predictions))\r\n",
        "print(classification_report(y_test, predictions))"
      ],
      "execution_count": null,
      "outputs": []
    }
  ]
}